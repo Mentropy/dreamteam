{
 "cells": [
  {
   "cell_type": "code",
   "execution_count": 11,
   "metadata": {
    "collapsed": true
   },
   "outputs": [],
   "source": [
    "import pandas as pd\n",
    "\n",
    "df = pd.read_csv('data.csv', sep=';', encoding='cp1251')\n",
    "\n",
    "# Import `xlwt` \n",
    "import xlwt\n",
    "\n",
    "# Initialize a workbook \n",
    "book = xlwt.Workbook(encoding=\"utf-8\")\n",
    "\n",
    "# Add a sheet to the workbook \n",
    "sheet1 = book.add_sheet(\"Python Sheet 1\") \n",
    "\n",
    "# Write to the sheet of the workbook \n",
    "sheet1.write(0, 0, 'Latitude_WGS84')\n",
    "sheet1.write(0, 1, 'Longitude_WGS84')  \n",
    "i=1\n",
    "while i < 2650 :\n",
    "    a=df.get_value(i,'Latitude_WGS84')\n",
    "    sheet1.write(i, 0, a) \n",
    "    b=df.get_value(i,'Longitude_WGS84')\n",
    "    sheet1.write(i, 1, b) \n",
    "    i=i+1\n",
    "\n",
    "# Save the workbook \n",
    "book.save(\"spreadsheet.xlsx\")"
   ]
  }
 ],
 "metadata": {
  "kernelspec": {
   "display_name": "Python 2",
   "language": "python",
   "name": "python2"
  },
  "language_info": {
   "codemirror_mode": {
    "name": "ipython",
    "version": 2
   },
   "file_extension": ".py",
   "mimetype": "text/x-python",
   "name": "python",
   "nbconvert_exporter": "python",
   "pygments_lexer": "ipython2",
   "version": "2.7.13"
  }
 },
 "nbformat": 4,
 "nbformat_minor": 2
}
